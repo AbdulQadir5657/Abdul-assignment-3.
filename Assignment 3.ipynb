{
 "cells": [
  {
   "cell_type": "code",
   "execution_count": null,
   "id": "2adb58a0",
   "metadata": {},
   "outputs": [],
   "source": [
    "# Question 1\n",
    "1. Why are functions advantageous to have in your programs?\n",
    "\n",
    "  Functions are advantageous to have in your programs for several reasons:\n",
    "\n",
    "~ Modularity: Functions allow you to break down your program into smaller, more manageable pieces.\n",
    "    This makes your code easier to read, understand, and maintain.\n",
    "\n",
    "~ Reuse: Functions can be reused throughout your program or even in other programs.\n",
    "    This saves time and effort by eliminating the need to rewrite the same code multiple times.\n",
    "\n",
    "~ Abstraction: Functions allow you to abstract away complex operations into simpler,\n",
    "    more easily understood pieces. This makes your code more readable and easier to understand.\n",
    "\n",
    "~ Testing: Functions make it easier to test your code by allowing you to test individual\n",
    "    pieces of functionality in isolation.\n",
    "\n",
    "~ Scoping: Functions allow you to control the scope of variables and other resources within \n",
    "    your program. This helps prevent naming conflicts and other issues that can arise when\n",
    "    working with large programs."
   ]
  },
  {
   "cell_type": "code",
   "execution_count": null,
   "id": "1e84ac1b",
   "metadata": {},
   "outputs": [],
   "source": [
    "# Question 2\n",
    "2. When does the code in a function run: when its specified or when its called?\n",
    "    \n",
    "    The code inside a function is not executed when the function is defined.\n",
    "    The code inside a function is executed when the function is invoked. \n",
    "    So, the code inside a function runs when it’s called.\n",
    "        \n",
    "    "
   ]
  },
  {
   "cell_type": "code",
   "execution_count": null,
   "id": "7c25962d",
   "metadata": {},
   "outputs": [],
   "source": [
    "# Question3\n",
    "3. What statement creates a function?\n",
    "\n",
    "In Python, a function is defined using the def keyword followed by the function name and\n",
    "parameters within parentheses. The part of the function inside the curly braces {} is called\n",
    "the function body."
   ]
  },
  {
   "cell_type": "code",
   "execution_count": null,
   "id": "3ee6c558",
   "metadata": {},
   "outputs": [],
   "source": [
    "# Question 4\n",
    "4. What is the difference between a function and a function call?\n",
    "\n",
    "A function is a block of code that performs a specific task. It takes input, processes it,\n",
    "and returns output. A function call is the code used to pass control to a function.\n",
    "It passes arguments (if any) to the function and executes the code inside the function."
   ]
  },
  {
   "cell_type": "code",
   "execution_count": null,
   "id": "ebe199b9",
   "metadata": {},
   "outputs": [],
   "source": [
    "# Question 5\n",
    "5. How many global scopes are there in a Python program? How many local scopes?\n",
    "\n",
    "    In Python, there are four types of scopes:\n",
    "    global scope, local scope, enclosing scope,and built-in scope. For any Python program,\n",
    "    there can be only one global scope.A variable created in the main body of the Python code\n",
    "    is a global variable and belongs to the global scope. Global variables are available from\n",
    "    within any scope,global and local. A local scope is created whenever a function is called. \n",
    "    Any variable assigned within the function is considered local and can only be\n",
    "    accessed within that function."
   ]
  },
  {
   "cell_type": "code",
   "execution_count": null,
   "id": "c0ef4c58",
   "metadata": {},
   "outputs": [],
   "source": [
    "# Question 6\n",
    "6. What happens to variables in a local scope when the function call returns?\n",
    "\n",
    "   When a function call returns, the variables in its local scope are destroyed and \n",
    "    their values are no longer accessible1. The lifetime of local variables is limited\n",
    "    to the function in which they are defined. Once the function returns, the memory \n",
    "    occupied by the local variables is freed up and can be used for other purposes."
   ]
  },
  {
   "cell_type": "code",
   "execution_count": null,
   "id": "f876a66c",
   "metadata": {},
   "outputs": [],
   "source": [
    "# Question 7\n",
    "7. What is the concept of a return value? Is it possible to have a return value in an expression?\n",
    "\n",
    "   Yes, the concept of a return value is the same in Python as in other programming languages.\n",
    "   A return statement in Python is used to end the execution of a function call and “returns” the\n",
    "   result (value of the expression following the return keyword) to the caller.\n",
    "\n",
    "   "
   ]
  },
  {
   "cell_type": "code",
   "execution_count": null,
   "id": "f422b4d8",
   "metadata": {},
   "outputs": [],
   "source": [
    "# Question 8\n",
    "8. If a function does not have a return statement, what is the return value of a call to that function?\n",
    "  \n",
    "   If a function does not have a return statement, it returns None in Python."
   ]
  },
  {
   "cell_type": "code",
   "execution_count": 3,
   "id": "cee73025",
   "metadata": {},
   "outputs": [
    {
     "name": "stdout",
     "output_type": "stream",
     "text": [
      "5\n"
     ]
    }
   ],
   "source": [
    "# Question 9\n",
    "9. How do you make a function variable refer to the global variable?\n",
    "\n",
    "    In Python, you can use the global keyword to access a global variable from within a function.\n",
    "    \n",
    "x = 10\n",
    "\n",
    "def my_function():\n",
    "    global x\n",
    "x = 5\n",
    "\n",
    "my_function()\n",
    "\n",
    "print(x)\n"
   ]
  },
  {
   "cell_type": "code",
   "execution_count": null,
   "id": "4a02c0d1",
   "metadata": {},
   "outputs": [],
   "source": [
    "# Question 10\n",
    "\n",
    "10. What is the data type of None?\n",
    "\n",
    "   In Python, None is a built-in constant that represents the absence of a value or a null value.\n",
    "    It is not the same as an empty string, a False value, or a zero. None is a data type of its\n",
    "    own (NoneType) and only None can be None."
   ]
  },
  {
   "cell_type": "code",
   "execution_count": null,
   "id": "241c31ba",
   "metadata": {},
   "outputs": [],
   "source": [
    "# Question 11\n",
    "\n",
    "11. What does the sentence import areallyourpetsnamederic do?\n",
    "\n",
    "   We import a module named \"areally....\""
   ]
  },
  {
   "cell_type": "code",
   "execution_count": null,
   "id": "f4b282a5",
   "metadata": {},
   "outputs": [],
   "source": [
    "# Question 12\n",
    "12. If you had a bacon() feature in a spam module, what would you call it after importing spam?\n",
    "\n",
    "     If you had a bacon() feature in a spam module, you would call it using the following\n",
    "      syntax after importing spam:\n",
    "            \n",
    "            spam.bacon()\n",
    "\n",
    "   "
   ]
  },
  {
   "cell_type": "code",
   "execution_count": null,
   "id": "e140c1cf",
   "metadata": {},
   "outputs": [],
   "source": [
    "# Question 13\n",
    "13. What can you do to save a programme from crashing if it encounters an error?\n",
    "\n",
    "    You can use exception handling to save a program from crashing if it encounters an error.\n",
    "    Exception handling allows you to catch and handle errors that occur during program execution,\n",
    "    so that the program can continue running without crashing."
   ]
  },
  {
   "cell_type": "code",
   "execution_count": null,
   "id": "fb5e28db",
   "metadata": {},
   "outputs": [],
   "source": [
    "# Question 14\n",
    "14. What is the purpose of the try clause? What is the purpose of the except clause?\n",
    "\n",
    "    The try clause is used in Python to handle exceptions. It allows you to test a block\n",
    "    of code for errors and handle them gracefully without crashing the program. The except \n",
    "    clause is used to catch and handle exceptions that occur in the try block."
   ]
  }
 ],
 "metadata": {
  "kernelspec": {
   "display_name": "Python 3 (ipykernel)",
   "language": "python",
   "name": "python3"
  },
  "language_info": {
   "codemirror_mode": {
    "name": "ipython",
    "version": 3
   },
   "file_extension": ".py",
   "mimetype": "text/x-python",
   "name": "python",
   "nbconvert_exporter": "python",
   "pygments_lexer": "ipython3",
   "version": "3.10.9"
  }
 },
 "nbformat": 4,
 "nbformat_minor": 5
}
